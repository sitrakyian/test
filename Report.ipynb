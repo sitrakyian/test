{
 "cells": [
  {
   "cell_type": "markdown",
   "metadata": {},
   "source": [
    "# INSTAGRAM ANALYSIS \n",
    "\n",
    "- First of all I need the xported csv file , that will be used in this function\n",
    "- 'Bio', 'ProfileName', 'followersCount', 'followingCount', 'isVerified' \n",
    "- 'Bio', 'ProfileName' will be used to define the job and categoize person by it \n",
    "- 'followersCount', 'followingCount' to define if its a real account or nah \n",
    "- 'isVerified' to define status of person , like if he is important or not."
   ]
  },
  {
   "cell_type": "code",
   "execution_count": 21,
   "metadata": {},
   "outputs": [
    {
     "name": "stdout",
     "output_type": "stream",
     "text": [
      "           profileName           job_title\n",
      "0       fr.ancoise9179             Unknown\n",
      "1        gifobshowroom             Unknown\n",
      "2              jly14th             Unknown\n",
      "3        flavor.diary_  software developer\n",
      "4          jeanduong91             Unknown\n",
      "5          bande2kebab             Unknown\n",
      "6             sam.dcdh             Unknown\n",
      "7             dojarvis             Unknown\n",
      "8   lerefugedescopains  software developer\n",
      "9           mat.garric             Unknown\n",
      "10                 NaN             Unknown\n",
      "11                 NaN             Unknown\n",
      "12                 NaN             Unknown\n",
      "13                 NaN             Unknown\n",
      "14                 NaN             Unknown\n"
     ]
    }
   ],
   "source": [
    "import pandas as pd\n",
    "import string\n",
    "from textblob import TextBlob\n",
    "\n",
    "# Define a function to extract the job title from a string\n",
    "def classify_bio(lines):\n",
    "    # Define a list of job titles\n",
    "    job_titles = ['software developer', 'software engineer', 'programmer', 'data scientist', 'data analyst', 'marketing manager', 'sales manager']\n",
    "\n",
    "    # Analyze each line to extract the job title\n",
    "    for line in lines:\n",
    "        line = line.strip()\n",
    "        if not line:\n",
    "            continue\n",
    "\n",
    "        # Remove punctuation marks and special characters from the line\n",
    "        line = line.translate(str.maketrans('', '', string.punctuation))\n",
    "\n",
    "        # Extract the job title from the line\n",
    "        blob = TextBlob(line)\n",
    "        job_title = None\n",
    "        for word in blob.noun_phrases:\n",
    "            if word.lower() in [job_title.lower() for job_title in job_titles]:\n",
    "                job_title = word\n",
    "                break\n",
    "\n",
    "        if job_title:\n",
    "            return job_title\n",
    "\n",
    "    return 'Unknown'\n",
    "\n",
    "# Define a function to extract the job title from a row in the dataframe\n",
    "def extract_job_title(row):\n",
    "    # Split the 'bio' column into multiple lines\n",
    "    lines = row['bio'].splitlines()\n",
    "\n",
    "    # Extract the job title from the lines\n",
    "    job_title = classify_bio(lines)\n",
    "\n",
    "    # Return the job title\n",
    "    return job_title\n",
    "\n",
    "# Load the data from a CSV file\n",
    "df = pd.read_csv('result.csv')\n",
    "\n",
    "# Apply the 'extract_job_title' function to each row in the dataframe\n",
    "df['job_title'] = df.apply(extract_job_title, axis=1)\n",
    "\n",
    "# Print the first 10 rows of the dataframe\n",
    "print(df.head(10))"
   ]
  }
 ],
 "metadata": {
  "kernelspec": {
   "display_name": "base",
   "language": "python",
   "name": "python3"
  },
  "language_info": {
   "codemirror_mode": {
    "name": "ipython",
    "version": 3
   },
   "file_extension": ".py",
   "mimetype": "text/x-python",
   "name": "python",
   "nbconvert_exporter": "python",
   "pygments_lexer": "ipython3",
   "version": "3.9.13"
  }
 },
 "nbformat": 4,
 "nbformat_minor": 2
}
